{
 "cells": [
  {
   "cell_type": "code",
   "execution_count": 1,
   "id": "binary-penalty",
   "metadata": {
    "ExecuteTime": {
     "end_time": "2021-04-28T05:06:19.361512Z",
     "start_time": "2021-04-28T05:06:19.356810Z"
    }
   },
   "outputs": [
    {
     "name": "stdout",
     "output_type": "stream",
     "text": [
      "True\n",
      "True\n",
      "False\n"
     ]
    }
   ],
   "source": [
    "# 주어진 문장이 회문인지 아닌지 찾기(큐와 스택의 특징을 이용)\n",
    "# 입력: 문자열 s\n",
    "# 출력: 회문이면 True, 아니면 False\n",
    "\n",
    "def palindrome(s):\n",
    "    # 큐와 스택을 리스트로 정의\n",
    "    qu = []\n",
    "    st = []\n",
    "    # 1단계: 문자열의 알파벳 문자를 각각 큐와 스택에 넣음\n",
    "    for x in s:\n",
    "        # 해당 문자가 알파벳이면(공백, 특수문자, 숫자가 아니면)\n",
    "        # 큐와 스택에 각각 그 문자를 추가\n",
    "        if x.isalpha():\n",
    "            qu.append(x.lower())\n",
    "            st.append(x.lower())\n",
    "    # 2단계: 큐와 스택에 들어 있는 문자를 꺼내면서 비교\n",
    "    while qu:  # 큐에 문자가 남아 있는 동안 반복\n",
    "        if qu.pop(0) != st.pop():  # 큐와 스택에서 꺼낸 문자가 다르면 회문이 아님\n",
    "            return False\n",
    "\n",
    "    return True\n",
    "\n",
    "print(palindrome(\"Wow\"))\n",
    "print(palindrome(\"Madam, I’m Adam.\"))\n",
    "print(palindrome(\"Madam, I am Adam.\"))\n"
   ]
  },
  {
   "cell_type": "code",
   "execution_count": 5,
   "id": "nuclear-graduate",
   "metadata": {
    "ExecuteTime": {
     "end_time": "2021-04-28T05:22:18.521613Z",
     "start_time": "2021-04-28T05:22:18.512056Z"
    }
   },
   "outputs": [
    {
     "name": "stdout",
     "output_type": "stream",
     "text": [
      "{'Tom': 1}\n",
      "{'Tom': 1, 'Jerry': 1}\n",
      "{'Tom': 1, 'Jerry': 1, 'Mike': 1}\n",
      "{'Tom': 2, 'Jerry': 1, 'Mike': 1}\n",
      "{'Tom'}\n",
      "{'Tom': 1}\n",
      "{'Tom': 1, 'Jerry': 1}\n",
      "{'Tom': 1, 'Jerry': 1, 'Mike': 1}\n",
      "{'Tom': 2, 'Jerry': 1, 'Mike': 1}\n",
      "{'Tom': 2, 'Jerry': 1, 'Mike': 2}\n",
      "{'Tom', 'Mike'}\n"
     ]
    }
   ],
   "source": [
    "# 두 번 이상 나온 이름 찾기\n",
    "# 입력: 이름이 n개 들어 있는 리스트\n",
    "# 출력: n개의 이름 중 반복되는 이름의 집합\n",
    "\n",
    "def find_same_name(a):\n",
    "    # 1단계: 각 이름의 등장 횟수를 딕셔너리로 만듦\n",
    "    name_dict = {}\n",
    "    for name in a:  # 리스트 a에 있는 자료들을 차례로 반복\n",
    "        if name in name_dict:     # 이름이 name_dict에 있으면\n",
    "            name_dict[name] += 1  # 등장 횟수를 1 증가\n",
    "        else:                     # 새 이름이면\n",
    "            name_dict[name] = 1   # 등장 횟수를 1로 저장\n",
    "        print(name_dict)\n",
    "\n",
    "    # 2단계: 만들어진 딕셔너리에서 등장 횟수가 2 이상인 것을 결과에 추가\n",
    "    result = set()  # 결괏값을 저장할 빈 집합\n",
    "    for name in name_dict:  # 딕셔너리 name_dict에 있는 자료들을 차례로 반복\n",
    "        if name_dict[name] >= 2:\n",
    "            result.add(name)\n",
    "#         print(result)\n",
    "\n",
    "    return result\n",
    "\n",
    "name = [\"Tom\", \"Jerry\", \"Mike\", \"Tom\"]  # 대소문자 유의: 파이썬은 대소문자를 구분함\n",
    "print(find_same_name(name))\n",
    "\n",
    "name2 = [\"Tom\", \"Jerry\", \"Mike\", \"Tom\", \"Mike\"]\n",
    "print(find_same_name(name2))\n"
   ]
  },
  {
   "cell_type": "code",
   "execution_count": 9,
   "id": "local-revision",
   "metadata": {
    "ExecuteTime": {
     "end_time": "2021-04-28T05:47:55.044000Z",
     "start_time": "2021-04-28T05:47:55.025404Z"
    }
   },
   "outputs": [
    {
     "name": "stdout",
     "output_type": "stream",
     "text": [
      "Summer\n",
      "John\n",
      "Justin\n",
      "Mike\n",
      "May\n",
      "Kim\n",
      "\n",
      "Jerry\n",
      "Tom\n"
     ]
    }
   ],
   "source": [
    "# 친구 리스트에서 자신의 모든 친구를 찾는 알고리즘\n",
    "# 입력: 친구 관계 그래프 g, 모든 친구를 찾을 자신 start\n",
    "# 출력: 모든 친구의 이름\n",
    "\n",
    "def print_all_friends(g, start):\n",
    "    qu = []       # 기억 장소1: 앞으로 처리해야 할 사람들을 큐에 저장\n",
    "    done = set()  # 기억 장소2: 이미 큐에 추가한 사람들을 집합에 기록(중복 방지)\n",
    "\n",
    "    qu.append(start)  # 자신을 큐에 넣고 시작\n",
    "    done.add(start)   # 집합에도 추가\n",
    "\n",
    "    while qu:           # 큐에 처리할 사람이 남아 있는 동안\n",
    "        p = qu.pop(0)   # 큐에서 처리 대상을 한 명 꺼내\n",
    "        print(p)        # 이름을 출력하고\n",
    "        for x in g[p]:  # 그의 친구들 중에\n",
    "            if x not in done:  # 아직 큐에 추가된 적이 없는 사람을\n",
    "                qu.append(x)   # 큐에 추가하고\n",
    "                done.add(x)    # 집합에도 추가\n",
    "\n",
    "# 친구 관계 리스트\n",
    "# A와 B가 친구이면\n",
    "# A의 친구 리스트에도 B가 나오고, B의 친구 리스트에도 A가 나옴\n",
    "fr_info = {\n",
    "    'Summer': ['John', 'Justin', 'Mike'],\n",
    "    'John': ['Summer', 'Justin'],\n",
    "    'Justin': ['John', 'Summer', 'Mike', 'May'],\n",
    "    'Mike': ['Summer', 'Justin'],\n",
    "    'May': ['Justin', 'Kim'],\n",
    "    'Kim': ['May'],\n",
    "    'Tom': ['Jerry'],\n",
    "    'Jerry': ['Tom']\n",
    "}\n",
    "\n",
    "print_all_friends(fr_info, 'Summer')\n",
    "print()\n",
    "print_all_friends(fr_info, 'Jerry')\n"
   ]
  },
  {
   "cell_type": "code",
   "execution_count": 13,
   "id": "finished-pursuit",
   "metadata": {
    "ExecuteTime": {
     "end_time": "2021-04-28T05:53:30.826327Z",
     "start_time": "2021-04-28T05:53:30.814913Z"
    }
   },
   "outputs": [
    {
     "name": "stdout",
     "output_type": "stream",
     "text": [
      "Summer 0\n",
      "John 1\n",
      "Justin 1\n",
      "Mike 1\n",
      "May 2\n",
      "Kim 3\n",
      "\n",
      "Jerry 0\n",
      "Tom 1\n"
     ]
    }
   ],
   "source": [
    "# 친구 리스트에서 자신의 모든 친구를 찾고 친구들의 친밀도를 계산하는 알고리즘\n",
    "# 입력: 친구 관계 그래프 g, 모든 친구를 찾을 자신 start\n",
    "# 출력: 모든 친구의 이름과 자신과의 친밀도\n",
    "\n",
    "def print_all_friends(g, start):\n",
    "    qu = []       # 기억 장소 1: 앞으로 처리해야 할 (사람 이름, 친밀도) 튜플을 큐에 저장\n",
    "    done = set()  # 기억 장소 2: 이미 큐에 추가한 사람을 집합에 기록(중복 방지)\n",
    "\n",
    "    qu.append((start, 0))  # (사람 이름, 친밀도) 정보를 하나의 튜플로 묶어 처리(자기 자신 친밀도: 0)\n",
    "    done.add(start)        # 집합에도 추가\n",
    "\n",
    "    while qu:               # 큐에 처리할 사람이 남아 있는 동안\n",
    "        (p, d) = qu.pop(0)  # 큐에서 (사람 이름, 친밀도) 정보를 p와 d로 각각 꺼냄\n",
    "        print(p, d)         # 사람 이름과 친밀도를 출력\n",
    "        for x in g[p]:      # 친구들 중에\n",
    "            if x not in done:          # 아직 큐에 추가된 적이 없는 사람을\n",
    "                qu.append((x, d + 1))  # 친밀도를 1 증가시켜 큐에 추가하고\n",
    "                done.add(x)            # 집합에도 추가\n",
    "\n",
    "fr_info = {\n",
    "    'Summer': ['John', 'Justin', 'Mike'],\n",
    "    'John': ['Summer', 'Justin'],\n",
    "    'Justin': ['John', 'Summer', 'Mike', 'May'],\n",
    "    'Mike': ['Summer', 'Justin'],\n",
    "    'May': ['Justin', 'Kim'],\n",
    "    'Kim': ['May'],\n",
    "    'Tom': ['Jerry'],\n",
    "    'Jerry': ['Tom']\n",
    "}\n",
    "\n",
    "print_all_friends(fr_info, 'Summer')\n",
    "print()\n",
    "print_all_friends(fr_info, 'Jerry')\n"
   ]
  },
  {
   "cell_type": "code",
   "execution_count": null,
   "id": "interracial-extent",
   "metadata": {},
   "outputs": [],
   "source": []
  }
 ],
 "metadata": {
  "kernelspec": {
   "display_name": "aiffel",
   "language": "python",
   "name": "aiffel"
  },
  "language_info": {
   "codemirror_mode": {
    "name": "ipython",
    "version": 3
   },
   "file_extension": ".py",
   "mimetype": "text/x-python",
   "name": "python",
   "nbconvert_exporter": "python",
   "pygments_lexer": "ipython3",
   "version": "3.7.9"
  },
  "toc": {
   "base_numbering": 1,
   "nav_menu": {},
   "number_sections": true,
   "sideBar": true,
   "skip_h1_title": false,
   "title_cell": "Table of Contents",
   "title_sidebar": "Contents",
   "toc_cell": false,
   "toc_position": {},
   "toc_section_display": true,
   "toc_window_display": false
  },
  "varInspector": {
   "cols": {
    "lenName": 16,
    "lenType": 16,
    "lenVar": 40
   },
   "kernels_config": {
    "python": {
     "delete_cmd_postfix": "",
     "delete_cmd_prefix": "del ",
     "library": "var_list.py",
     "varRefreshCmd": "print(var_dic_list())"
    },
    "r": {
     "delete_cmd_postfix": ") ",
     "delete_cmd_prefix": "rm(",
     "library": "var_list.r",
     "varRefreshCmd": "cat(var_dic_list()) "
    }
   },
   "types_to_exclude": [
    "module",
    "function",
    "builtin_function_or_method",
    "instance",
    "_Feature"
   ],
   "window_display": false
  }
 },
 "nbformat": 4,
 "nbformat_minor": 5
}
