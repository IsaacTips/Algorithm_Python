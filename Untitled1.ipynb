{
 "cells": [
  {
   "cell_type": "code",
   "execution_count": 1,
   "id": "comic-payday",
   "metadata": {
    "ExecuteTime": {
     "end_time": "2021-04-07T04:57:47.822045Z",
     "start_time": "2021-04-07T04:57:47.813978Z"
    }
   },
   "outputs": [
    {
     "name": "stdout",
     "output_type": "stream",
     "text": [
      "92\n"
     ]
    }
   ],
   "source": [
    "# 최댓값 구하기\n",
    "# 입력: 숫자가 n개 들어 있는 리스트\n",
    "# 출력: 숫자 n개 중 최댓값\n",
    "\n",
    "def find_max(a, n):  # 리스트 a의 앞부분 n개 중 최댓값을 구하는 재귀 함수\n",
    "    if n == 1:\n",
    "        return a[0]\n",
    "    max_n_1 = find_max(a, n - 1) # n-1개 중 최댓값을 구함\n",
    "    if max_n_1 > a[n - 1]:       # n-1개 중 최댓값과 n-1번 위치 값을 비교\n",
    "        return max_n_1\n",
    "    else:\n",
    "        return a[n - 1]\n",
    "\n",
    "v = [17, 92, 18, 33, 58, 7, 33, 42]\n",
    "print(find_max(v, len(v)))  # 함수에 리스트의 자료 갯수를 인자로 추가하여 호출"
   ]
  },
  {
   "cell_type": "code",
   "execution_count": 2,
   "id": "corrected-questionnaire",
   "metadata": {
    "ExecuteTime": {
     "end_time": "2021-04-07T05:27:17.815086Z",
     "start_time": "2021-04-07T05:27:17.802782Z"
    }
   },
   "outputs": [
    {
     "name": "stdout",
     "output_type": "stream",
     "text": [
      "13\n",
      "55\n"
     ]
    }
   ],
   "source": [
    "# n번째 피보나치 수열 찾기\n",
    "# 입력: n값(0부터 시작)\n",
    "# 출력: n번째 피보나치 수열 값\n",
    "\n",
    "def fibo(n):\n",
    "    if n <= 1:\n",
    "        return n  # n = 0 -> 0 | n = 1 -> 1\n",
    "    return fibo(n - 2) + fibo(n - 1)\n",
    "\n",
    "print(fibo(7))\n",
    "print(fibo(10))\n"
   ]
  },
  {
   "cell_type": "code",
   "execution_count": 5,
   "id": "thrown-grocery",
   "metadata": {
    "ExecuteTime": {
     "end_time": "2021-04-07T06:19:44.262992Z",
     "start_time": "2021-04-07T06:19:44.241719Z"
    }
   },
   "outputs": [
    {
     "name": "stdout",
     "output_type": "stream",
     "text": [
      "n = 1\n",
      "1 -> 3\n",
      "n = 2\n",
      "1 -> 2\n",
      "1 -> 3\n",
      "2 -> 3\n",
      "n = 3\n",
      "1 -> 3\n",
      "1 -> 2\n",
      "3 -> 2\n",
      "1 -> 3\n",
      "2 -> 1\n",
      "2 -> 3\n",
      "1 -> 3\n"
     ]
    }
   ],
   "source": [
    "# 하노이의 탑\n",
    "# 입력: 옮기려는 원반의 갯수 n\n",
    "#      옮길 원반이 현재 있는 출발점 기둥 from_pos\n",
    "#      원반을 옮길 도착점 기둥 to_pos\n",
    "#      옮기는 과정에서 사용할 보조 기둥 aux_pos\n",
    "# 출력: 원반을 옮기는 순서 \n",
    "\n",
    "def hanoi(n, from_pos, to_pos, aux_pos):\n",
    "    if n == 1:  # 원반 한 개를 옮기는 문제면 그냥 옮기면 됨\n",
    "        print(from_pos, \"->\", to_pos)\n",
    "        return\n",
    "\n",
    "    # 원반 n - 1개를 aux_pos로 이동(to_pos를 보조 기둥으로)\n",
    "    hanoi(n - 1, from_pos, aux_pos, to_pos)\n",
    "    # 가장 큰 원반을 목적지로 이동\n",
    "    print(from_pos, \"->\", to_pos)\n",
    "    # aux_pos에 있는 원반 n-1개를 목적지로 이동(from_pos를 보조 기둥으로)\n",
    "    hanoi(n - 1, aux_pos, to_pos, from_pos)\n",
    "\n",
    "print(\"n = 1\")\n",
    "hanoi(1, 1, 3, 2)  # 원반 한 개를 1번 기둥에서 3번 기둥으로 이동(2번을 보조 기둥으로)\n",
    "print(\"n = 2\")\n",
    "hanoi(2, 1, 3, 2)  # 원반 두 개를 1번 기둥에서 3번 기둥으로 이동(2번을 보조 기둥으로)\n",
    "print(\"n = 3\")\n",
    "hanoi(3, 1, 3, 2) # 원반 세 개를 1번 기둥에서 3번 기둥으로 이동(2번을 보조 기둥으로)"
   ]
  },
  {
   "cell_type": "code",
   "execution_count": null,
   "id": "loved-statement",
   "metadata": {},
   "outputs": [],
   "source": []
  }
 ],
 "metadata": {
  "kernelspec": {
   "display_name": "aiffel",
   "language": "python",
   "name": "aiffel"
  },
  "language_info": {
   "codemirror_mode": {
    "name": "ipython",
    "version": 3
   },
   "file_extension": ".py",
   "mimetype": "text/x-python",
   "name": "python",
   "nbconvert_exporter": "python",
   "pygments_lexer": "ipython3",
   "version": "3.7.9"
  },
  "toc": {
   "base_numbering": 1,
   "nav_menu": {},
   "number_sections": true,
   "sideBar": true,
   "skip_h1_title": false,
   "title_cell": "Table of Contents",
   "title_sidebar": "Contents",
   "toc_cell": false,
   "toc_position": {},
   "toc_section_display": true,
   "toc_window_display": false
  },
  "varInspector": {
   "cols": {
    "lenName": 16,
    "lenType": 16,
    "lenVar": 40
   },
   "kernels_config": {
    "python": {
     "delete_cmd_postfix": "",
     "delete_cmd_prefix": "del ",
     "library": "var_list.py",
     "varRefreshCmd": "print(var_dic_list())"
    },
    "r": {
     "delete_cmd_postfix": ") ",
     "delete_cmd_prefix": "rm(",
     "library": "var_list.r",
     "varRefreshCmd": "cat(var_dic_list()) "
    }
   },
   "types_to_exclude": [
    "module",
    "function",
    "builtin_function_or_method",
    "instance",
    "_Feature"
   ],
   "window_display": false
  }
 },
 "nbformat": 4,
 "nbformat_minor": 5
}
