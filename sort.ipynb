{
 "cells": [
  {
   "cell_type": "markdown",
   "id": "proud-polish",
   "metadata": {},
   "source": [
    "# 문제1. 약수 구하기\n",
    "양의 정수를 입력 받고 그 수의 약수를 모두 출력하는 프로그램을 작성하십시오.\n",
    "\n",
    "__입력__<br>\n",
    "양의 정수\n",
    "\n",
    "__출력__<br>\n",
    "입력된 수의 약수를 공백으로 구분하여 출력\n",
    "\n",
    "__예시1)__\n",
    "* 입력 : 20\n",
    "* 출력 : 1 2 4 5 10 20\n",
    "\n",
    "__예시2)__\n",
    "* 입력 : 100\n",
    "* 출력 : 1 2 4 5 10 20 25 50 100\n"
   ]
  },
  {
   "cell_type": "code",
   "execution_count": 18,
   "id": "buried-ridge",
   "metadata": {
    "ExecuteTime": {
     "end_time": "2021-04-01T07:29:15.072947Z",
     "start_time": "2021-04-01T07:29:15.070427Z"
    }
   },
   "outputs": [],
   "source": [
    "def cal_divisor(a):\n",
    "    for i in range(1, a+1):\n",
    "        if a % i ==0:\n",
    "            print(i, end=' ')"
   ]
  },
  {
   "cell_type": "code",
   "execution_count": 19,
   "id": "accredited-injury",
   "metadata": {
    "ExecuteTime": {
     "end_time": "2021-04-01T07:29:15.234005Z",
     "start_time": "2021-04-01T07:29:15.230548Z"
    }
   },
   "outputs": [
    {
     "name": "stdout",
     "output_type": "stream",
     "text": [
      "1 2 4 5 10 20 25 50 100 "
     ]
    }
   ],
   "source": [
    "cal_divisor(100)"
   ]
  },
  {
   "cell_type": "code",
   "execution_count": 22,
   "id": "artificial-charge",
   "metadata": {
    "ExecuteTime": {
     "end_time": "2021-04-01T07:56:27.102890Z",
     "start_time": "2021-04-01T07:55:59.688651Z"
    }
   },
   "outputs": [
    {
     "name": "stdout",
     "output_type": "stream",
     "text": [
      "1 3 5 9 15 37 45 111 185 333 555 1665 333667 1001001 1668335 3003003 5005005 12345679 15015015 37037037 61728395 111111111 185185185 555555555 "
     ]
    }
   ],
   "source": [
    "cal_divisor(555555555)"
   ]
  },
  {
   "cell_type": "code",
   "execution_count": null,
   "id": "living-notification",
   "metadata": {},
   "outputs": [],
   "source": []
  },
  {
   "cell_type": "code",
   "execution_count": null,
   "id": "higher-stack",
   "metadata": {},
   "outputs": [],
   "source": []
  },
  {
   "cell_type": "code",
   "execution_count": null,
   "id": "iraqi-activation",
   "metadata": {},
   "outputs": [],
   "source": []
  },
  {
   "cell_type": "code",
   "execution_count": null,
   "id": "answering-injury",
   "metadata": {},
   "outputs": [],
   "source": []
  },
  {
   "cell_type": "code",
   "execution_count": null,
   "id": "complex-partnership",
   "metadata": {},
   "outputs": [],
   "source": []
  },
  {
   "cell_type": "code",
   "execution_count": null,
   "id": "emerging-purchase",
   "metadata": {},
   "outputs": [],
   "source": []
  },
  {
   "cell_type": "code",
   "execution_count": null,
   "id": "stunning-replica",
   "metadata": {},
   "outputs": [],
   "source": []
  },
  {
   "cell_type": "code",
   "execution_count": null,
   "id": "athletic-playlist",
   "metadata": {},
   "outputs": [],
   "source": []
  },
  {
   "cell_type": "code",
   "execution_count": null,
   "id": "editorial-longitude",
   "metadata": {},
   "outputs": [],
   "source": []
  },
  {
   "cell_type": "code",
   "execution_count": null,
   "id": "taken-gross",
   "metadata": {},
   "outputs": [],
   "source": []
  },
  {
   "cell_type": "code",
   "execution_count": null,
   "id": "trained-credit",
   "metadata": {},
   "outputs": [],
   "source": []
  },
  {
   "cell_type": "code",
   "execution_count": null,
   "id": "enclosed-following",
   "metadata": {},
   "outputs": [],
   "source": []
  },
  {
   "cell_type": "code",
   "execution_count": null,
   "id": "harmful-majority",
   "metadata": {},
   "outputs": [],
   "source": []
  },
  {
   "cell_type": "code",
   "execution_count": null,
   "id": "martial-astronomy",
   "metadata": {},
   "outputs": [],
   "source": []
  },
  {
   "cell_type": "code",
   "execution_count": null,
   "id": "popular-greece",
   "metadata": {},
   "outputs": [],
   "source": []
  },
  {
   "cell_type": "code",
   "execution_count": null,
   "id": "legendary-triangle",
   "metadata": {},
   "outputs": [],
   "source": []
  },
  {
   "cell_type": "code",
   "execution_count": null,
   "id": "brilliant-celebration",
   "metadata": {},
   "outputs": [],
   "source": []
  },
  {
   "cell_type": "code",
   "execution_count": null,
   "id": "fifth-treat",
   "metadata": {},
   "outputs": [],
   "source": []
  },
  {
   "cell_type": "code",
   "execution_count": 6,
   "id": "clinical-perfume",
   "metadata": {
    "ExecuteTime": {
     "end_time": "2021-04-21T04:54:13.562978Z",
     "start_time": "2021-04-21T04:54:13.542647Z"
    }
   },
   "outputs": [
    {
     "name": "stdout",
     "output_type": "stream",
     "text": [
      "[6] [8]\n",
      "[6, 8]\n",
      "[9] [10]\n",
      "[9, 10]\n",
      "[3] [9, 10]\n",
      "[3, 9, 10]\n",
      "[6, 8] [3, 9, 10]\n",
      "[3, 6, 8, 9, 10]\n",
      "[1] [2]\n",
      "[1, 2]\n",
      "[7] [5]\n",
      "[5, 7]\n",
      "[4] [5, 7]\n",
      "[4, 5, 7]\n",
      "[1, 2] [4, 5, 7]\n",
      "[1, 2, 4, 5, 7]\n",
      "[3, 6, 8, 9, 10] [1, 2, 4, 5, 7]\n",
      "[1, 2, 3, 4, 5, 6, 7, 8, 9, 10]\n",
      "[1, 2, 3, 4, 5, 6, 7, 8, 9, 10]\n"
     ]
    }
   ],
   "source": [
    "# 쉽게 설명한 병합 정렬\n",
    "# 입력: 리스트 a\n",
    "# 출력: 정렬된 새 리스트\n",
    "\n",
    "def merge_sort(a):\n",
    "    n = len(a)\n",
    "    # 종료 조건: 정렬할 리스트의 자료 개수가 한 개 이하이면 정렬할 필요 없음\n",
    "    if n <= 1:\n",
    "        return a\n",
    "    # 그룹을 나누어 각각 병합 정렬을 호출하는 과정\n",
    "    mid = n // 2  # 중간을 기준으로 두 그룹으로 나눔\n",
    "    g1 = merge_sort(a[:mid]) # 재귀 호출로 첫 번째 그룹을 정렬\n",
    "    g2 = merge_sort(a[mid:]) # 재귀 호출로 두 번째 그룹을 정렬\n",
    "    print(g1, g2)\n",
    "    # 두 그룹을 하나로 병합\n",
    "    result = []       # 두 그룹을 합쳐 만들 최종 결과\n",
    "    while g1 and g2:  # 두 그룹에 모두 자료가 남아 있는 동안 반복\n",
    "        if g1[0] < g2[0]: # 두 그룹의 맨 앞 자료 값을 비교\n",
    "            # g1의 값이 더 작으면 그 값을 빼내어 결과로 추가\n",
    "            result.append(g1.pop(0))\n",
    "        else:\n",
    "            # g2의 값이 더 작으면 그 값을 빼내어 결과로 추가\n",
    "            result.append(g2.pop(0))\n",
    "    # 아직 남아 있는 자료들을 결과에 추가\n",
    "    # g1과 g2 중 이미 빈 것은 while을 바로 지나감\n",
    "    while g1:\n",
    "        result.append(g1.pop(0))\n",
    "    while g2:\n",
    "        result.append(g2.pop(0))\n",
    "    print(result)\n",
    "    return result\n",
    "\n",
    "d = [6, 8, 3, 9, 10, 1, 2, 4, 7, 5]\n",
    "print(merge_sort(d))\n"
   ]
  },
  {
   "cell_type": "code",
   "execution_count": 14,
   "id": "communist-auditor",
   "metadata": {
    "ExecuteTime": {
     "end_time": "2021-04-21T05:01:35.819705Z",
     "start_time": "2021-04-21T05:01:35.798095Z"
    }
   },
   "outputs": [
    {
     "name": "stdout",
     "output_type": "stream",
     "text": [
      "[6] [8]\n",
      "[9] [10]\n",
      "[3] [9, 10]\n",
      "[6, 8] [3, 9, 10]\n",
      "[1] [2]\n",
      "[7] [5]\n",
      "[4] [5, 7]\n",
      "[1, 2] [4, 5, 7]\n",
      "[3, 6, 8, 9, 10] [1, 2, 4, 5, 7]\n",
      "[1, 2, 3, 4, 5, 6, 7, 8, 9, 10]\n"
     ]
    }
   ],
   "source": [
    "# 병합 정렬\n",
    "# 입력: 리스트 a\n",
    "# 출력: 없음(입력으로 주어진 a가 정렬됨)\n",
    "\n",
    "def merge_sort(a):\n",
    "    n = len(a)\n",
    "    # 종료 조건: 정렬할 리스트의 자료 개수가 한 개 이하이면 정렬할 필요가 없음\n",
    "    if n <= 1:\n",
    "        return\n",
    "    # 그룹을 나누어 각각 병합 정렬을 호출하는 과정\n",
    "    mid = n // 2  # 중간을 기준으로 두 그룹으로 나눔\n",
    "    g1 = a[:mid]\n",
    "    g2 = a[mid:]\n",
    "    merge_sort(g1)  # 재귀 호출로 첫 번째 그룹을 정렬\n",
    "    merge_sort(g2)  # 재귀 호출로 두 번째 그룹을 정렬\n",
    "    print(g1, g2)\n",
    "    # 두 그룹을 하나로 병합\n",
    "    i1 = 0\n",
    "    i2 = 0\n",
    "    ia = 0\n",
    "    while i1 < len(g1) and i2 < len(g2):\n",
    "        if g1[i1] < g2[i2]:\n",
    "            a[ia] = g1[i1]\n",
    "            i1 += 1\n",
    "            ia += 1\n",
    "        else:\n",
    "            a[ia] = g2[i2]\n",
    "            i2 += 1\n",
    "            ia += 1\n",
    "    # 아직 남아 있는 자료들을 결과에 추가\n",
    "    while i1 < len(g1):\n",
    "        a[ia] = g1[i1]\n",
    "        i1 += 1\n",
    "        ia += 1\n",
    "    while i2 < len(g2):\n",
    "        a[ia] = g2[i2]\n",
    "        i2 += 1\n",
    "        ia += 1\n",
    "\n",
    "d = [6, 8, 3, 9, 10, 1, 2, 4, 7, 5]\n",
    "merge_sort(d)\n",
    "print(d)"
   ]
  },
  {
   "cell_type": "code",
   "execution_count": null,
   "id": "packed-portsmouth",
   "metadata": {},
   "outputs": [],
   "source": []
  },
  {
   "cell_type": "code",
   "execution_count": null,
   "id": "conscious-medicine",
   "metadata": {},
   "outputs": [],
   "source": []
  },
  {
   "cell_type": "code",
   "execution_count": 15,
   "id": "civil-locator",
   "metadata": {
    "ExecuteTime": {
     "end_time": "2021-04-21T06:44:31.197227Z",
     "start_time": "2021-04-21T06:44:31.192433Z"
    }
   },
   "outputs": [
    {
     "name": "stdout",
     "output_type": "stream",
     "text": [
      "[1, 2, 3, 4, 5, 6, 7, 8, 9, 10]\n"
     ]
    }
   ],
   "source": [
    "# 쉽게 설명한 퀵 정렬\n",
    "# 입력: 리스트 a\n",
    "# 출력: 정렬된 새 리스트\n",
    "\n",
    "def quick_sort(a):\n",
    "    n = len(a)\n",
    "    # 종료 조건: 정렬할 리스트의 자료 개수가 한 개 이하이면 정렬할 필요가 없음\n",
    "    if n <= 1:\n",
    "        return a\n",
    "    # 기준 값을 정하고 기준에 맞춰 그룹을 나누는 과정\n",
    "    pivot = a[-1]  # 편의상 리스트의 마지막 값을 기준 값으로 정함\n",
    "    g1 = []  # 그룹 1: 기준 값보다 작은 값을 담을 리스트\n",
    "    g2 = []  # 그룹 2: 기준 값보다 큰 값을 담을 리스트\n",
    "    for i in range(0, n - 1):  # 마지막 값은 기준 값이므로 제외\n",
    "        if a[i] < pivot:    # 기준 값과 비교\n",
    "            g1.append(a[i]) # 작으면 g1에 추가\n",
    "        else:\n",
    "            g2.append(a[i]) # 크면 g2에 추가\n",
    "    # 각 그룹에 대해 재귀 호출로 퀵 정렬을 한 후\n",
    "    # 기준 값과 합쳐 하나의 리스트로 결괏값 반환\n",
    "    return quick_sort(g1) + [pivot] + quick_sort(g2)\n",
    "\n",
    "d = [6, 8, 3, 9, 10, 1, 2, 4, 7, 5]\n",
    "print(quick_sort(d))\n"
   ]
  },
  {
   "cell_type": "code",
   "execution_count": 16,
   "id": "impressed-skating",
   "metadata": {
    "ExecuteTime": {
     "end_time": "2021-04-21T06:44:44.934112Z",
     "start_time": "2021-04-21T06:44:44.922542Z"
    }
   },
   "outputs": [
    {
     "name": "stdout",
     "output_type": "stream",
     "text": [
      "[1, 2, 3, 4, 5, 6, 7, 8, 9, 10]\n"
     ]
    }
   ],
   "source": [
    "# 퀵 정렬\n",
    "# 입력: 리스트 a\n",
    "# 출력: 없음(입력으로 주어진 a가 정렬됨)\n",
    "# 리스트 a의 어디부터(start) 어디까지(end)가 정렬 대상인지\n",
    "# 범위를 지정하여 정렬하는 재귀 호출 함수\n",
    "def quick_sort_sub(a, start, end):\n",
    "    # 종료 조건: 정렬 대상이 1개 이하면 정렬할 필요 없음\n",
    "    if end - start <= 0:\n",
    "        return\n",
    "    # 기준 값을 정하고 기준 값에 맞춰 리스트 안에서 각 자료의 위치를 맞춤\n",
    "    # [기준 값보다 작은 값들, 기준 값, 기준 값보다 큰 값들]\n",
    "    pivot = a[end]    # 편의상 리스트의 마지막 값을 기준 값으로 정합\n",
    "    i = start\n",
    "    for j in range(start, end):\n",
    "        if a[j] <= pivot:\n",
    "            a[i], a[j] = a[j], a[i]\n",
    "            i += 1\n",
    "    a[i], a[end] = a[end], a[i]\n",
    "    # 재귀 호출 부분\n",
    "    quick_sort_sub(a, start, i - 1) # 기준 값보다 작은 그룹을 재귀 호출로 다시 정렬\n",
    "    quick_sort_sub(a, i + 1, end)   # 기준 값보다 큰 그룹을 재귀 호출로 다시 정렬\n",
    "\n",
    "# 리스트 전체(0 ~ len(a)-1)를 대상으로 재귀 호출 함수 호출\n",
    "def quick_sort(a):\n",
    "    quick_sort_sub(a, 0, len(a) - 1)\n",
    "\n",
    "d = [6, 8, 3, 9, 10, 1, 2, 4, 7, 5]\n",
    "quick_sort(d)\n",
    "print(d)\n"
   ]
  },
  {
   "cell_type": "code",
   "execution_count": null,
   "id": "brown-contributor",
   "metadata": {},
   "outputs": [],
   "source": []
  },
  {
   "cell_type": "code",
   "execution_count": null,
   "id": "transparent-celebrity",
   "metadata": {},
   "outputs": [],
   "source": []
  },
  {
   "cell_type": "code",
   "execution_count": 21,
   "id": "integrated-clone",
   "metadata": {
    "ExecuteTime": {
     "end_time": "2021-04-21T07:44:23.827347Z",
     "start_time": "2021-04-21T07:44:23.806806Z"
    }
   },
   "outputs": [
    {
     "name": "stdout",
     "output_type": "stream",
     "text": [
      "4\n",
      "6\n",
      "5\n",
      "5\n",
      "4\n",
      "6\n",
      "7\n",
      "-1\n"
     ]
    }
   ],
   "source": [
    "# 리스트에서 특정 숫자 위치 찾기(이분 탐색)\n",
    "# 입력: 리스트 a, 찾는 값 x\n",
    "# 출력: 찾으면 그 값의 위치, 찾지 못하면 -1\n",
    "\n",
    "def binary_search(a, x):\n",
    "    # 탐색할 범위를 저장하는 변수 start, end\n",
    "    # 리스트 전체를 범위로 탐색 시작(0 ~ len(a)-1)\n",
    "    start = 0\n",
    "    end = len(a) - 1\n",
    "\n",
    "    while start <= end: # 탐색할 범위가 남아 있는 동안 반복\n",
    "        mid = (start + end) // 2  # 탐색 범위의 중간 위치\n",
    "        print(mid)\n",
    "        if x == a[mid]:   # 발견!\n",
    "            return mid\n",
    "        elif x > a[mid]:  # 찾는 값이 더 크면 오른쪽으로 범위를 좁혀 계속 탐색\n",
    "            start = mid + 1\n",
    "        else:             # 찾는 값이 더 작으면 왼쪽으로 범위를 좁혀 계속 탐색\n",
    "            end = mid - 1\n",
    "\n",
    "    return -1  # 찾지 못했을 때\n",
    "\n",
    "d = [1, 4, 9, 16, 25, 36, 49, 64, 81]\n",
    "print(binary_search(d, 36))\n",
    "print(binary_search(d, 50))"
   ]
  },
  {
   "cell_type": "code",
   "execution_count": null,
   "id": "revised-intention",
   "metadata": {},
   "outputs": [],
   "source": []
  }
 ],
 "metadata": {
  "kernelspec": {
   "display_name": "aiffel",
   "language": "python",
   "name": "aiffel"
  },
  "language_info": {
   "codemirror_mode": {
    "name": "ipython",
    "version": 3
   },
   "file_extension": ".py",
   "mimetype": "text/x-python",
   "name": "python",
   "nbconvert_exporter": "python",
   "pygments_lexer": "ipython3",
   "version": "3.7.9"
  },
  "toc": {
   "base_numbering": 1,
   "nav_menu": {},
   "number_sections": true,
   "sideBar": true,
   "skip_h1_title": false,
   "title_cell": "Table of Contents",
   "title_sidebar": "Contents",
   "toc_cell": false,
   "toc_position": {},
   "toc_section_display": true,
   "toc_window_display": false
  },
  "varInspector": {
   "cols": {
    "lenName": 16,
    "lenType": 16,
    "lenVar": 40
   },
   "kernels_config": {
    "python": {
     "delete_cmd_postfix": "",
     "delete_cmd_prefix": "del ",
     "library": "var_list.py",
     "varRefreshCmd": "print(var_dic_list())"
    },
    "r": {
     "delete_cmd_postfix": ") ",
     "delete_cmd_prefix": "rm(",
     "library": "var_list.r",
     "varRefreshCmd": "cat(var_dic_list()) "
    }
   },
   "types_to_exclude": [
    "module",
    "function",
    "builtin_function_or_method",
    "instance",
    "_Feature"
   ],
   "window_display": false
  }
 },
 "nbformat": 4,
 "nbformat_minor": 5
}
